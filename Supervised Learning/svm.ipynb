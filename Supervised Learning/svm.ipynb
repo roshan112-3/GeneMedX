{
 "cells": [
  {
   "cell_type": "code",
   "execution_count": 1,
   "id": "83a91d36",
   "metadata": {
    "_cell_guid": "b1076dfc-b9ad-4769-8c92-a6c4dae69d19",
    "_uuid": "8f2839f25d086af736a60e9eeb907d3b93b6e0e5",
    "execution": {
     "iopub.execute_input": "2025-04-28T00:35:57.829400Z",
     "iopub.status.busy": "2025-04-28T00:35:57.828994Z",
     "iopub.status.idle": "2025-04-28T00:35:59.934627Z",
     "shell.execute_reply": "2025-04-28T00:35:59.933399Z"
    },
    "papermill": {
     "duration": 2.114781,
     "end_time": "2025-04-28T00:35:59.936717",
     "exception": false,
     "start_time": "2025-04-28T00:35:57.821936",
     "status": "completed"
    },
    "tags": []
   },
   "outputs": [
    {
     "name": "stdout",
     "output_type": "stream",
     "text": [
      "/kaggle/input/cleaned-genomics/cleaned_data_no_outliers.csv\n"
     ]
    }
   ],
   "source": [
    "# This Python 3 environment comes with many helpful analytics libraries installed\n",
    "# It is defined by the kaggle/python Docker image: https://github.com/kaggle/docker-python\n",
    "# For example, here's several helpful packages to load\n",
    "\n",
    "import numpy as np # linear algebra\n",
    "import pandas as pd # data processing, CSV file I/O (e.g. pd.read_csv)\n",
    "\n",
    "# Input data files are available in the read-only \"../input/\" directory\n",
    "# For example, running this (by clicking run or pressing Shift+Enter) will list all files under the input directory\n",
    "\n",
    "import os\n",
    "for dirname, _, filenames in os.walk('/kaggle/input'):\n",
    "    for filename in filenames:\n",
    "        print(os.path.join(dirname, filename))\n",
    "\n",
    "# You can write up to 20GB to the current directory (/kaggle/working/) that gets preserved as output when you create a version using \"Save & Run All\" \n",
    "# You can also write temporary files to /kaggle/temp/, but they won't be saved outside of the current session"
   ]
  },
  {
   "cell_type": "code",
   "execution_count": 2,
   "id": "fe0cec44",
   "metadata": {
    "execution": {
     "iopub.execute_input": "2025-04-28T00:35:59.952245Z",
     "iopub.status.busy": "2025-04-28T00:35:59.951750Z",
     "iopub.status.idle": "2025-04-28T00:36:02.457656Z",
     "shell.execute_reply": "2025-04-28T00:36:02.456803Z"
    },
    "papermill": {
     "duration": 2.514404,
     "end_time": "2025-04-28T00:36:02.459416",
     "exception": false,
     "start_time": "2025-04-28T00:35:59.945012",
     "status": "completed"
    },
    "tags": []
   },
   "outputs": [],
   "source": [
    "import pandas as pd\n",
    "import numpy as np\n",
    "import matplotlib.pyplot as plt\n",
    "import seaborn as sns\n",
    "from sklearn.model_selection import train_test_split\n",
    "from sklearn.preprocessing import StandardScaler, OneHotEncoder, LabelEncoder\n",
    "from sklearn.compose import ColumnTransformer\n",
    "from sklearn.pipeline import Pipeline\n",
    "from sklearn.svm import SVC\n",
    "from sklearn.metrics import confusion_matrix, accuracy_score, classification_report"
   ]
  },
  {
   "cell_type": "code",
   "execution_count": 3,
   "id": "58b8b18f",
   "metadata": {
    "execution": {
     "iopub.execute_input": "2025-04-28T00:36:02.471975Z",
     "iopub.status.busy": "2025-04-28T00:36:02.471071Z",
     "iopub.status.idle": "2025-04-28T00:36:03.946133Z",
     "shell.execute_reply": "2025-04-28T00:36:03.945086Z"
    },
    "papermill": {
     "duration": 1.48292,
     "end_time": "2025-04-28T00:36:03.947998",
     "exception": false,
     "start_time": "2025-04-28T00:36:02.465078",
     "status": "completed"
    },
    "tags": []
   },
   "outputs": [],
   "source": [
    "# Load the dataset\n",
    "gdsc_data = pd.read_csv('/kaggle/input/cleaned-genomics/cleaned_data_no_outliers.csv')"
   ]
  },
  {
   "cell_type": "code",
   "execution_count": 4,
   "id": "e2e9720e",
   "metadata": {
    "execution": {
     "iopub.execute_input": "2025-04-28T00:36:03.961167Z",
     "iopub.status.busy": "2025-04-28T00:36:03.960840Z",
     "iopub.status.idle": "2025-04-28T00:36:03.984483Z",
     "shell.execute_reply": "2025-04-28T00:36:03.983342Z"
    },
    "papermill": {
     "duration": 0.031193,
     "end_time": "2025-04-28T00:36:03.986175",
     "exception": false,
     "start_time": "2025-04-28T00:36:03.954982",
     "status": "completed"
    },
    "tags": []
   },
   "outputs": [
    {
     "name": "stdout",
     "output_type": "stream",
     "text": [
      "Using LN_IC50 threshold of 3.5575 for classification\n",
      "Class distribution: Drug_Sensitivity\n",
      "1    99171\n",
      "0    99171\n",
      "Name: count, dtype: int64\n"
     ]
    }
   ],
   "source": [
    "# First, we need to convert LN_IC50 into a binary classification target\n",
    "# Lower LN_IC50 values indicate higher drug sensitivity\n",
    "# We'll use the median as a threshold to classify as sensitive (1) or resistant (0)\n",
    "sensitivity_threshold = gdsc_data['LN_IC50'].median()\n",
    "gdsc_data['Drug_Sensitivity'] = (gdsc_data['LN_IC50'] < sensitivity_threshold).astype(int)\n",
    "print(f\"Using LN_IC50 threshold of {sensitivity_threshold:.4f} for classification\")\n",
    "print(f\"Class distribution: {gdsc_data['Drug_Sensitivity'].value_counts()}\")"
   ]
  },
  {
   "cell_type": "code",
   "execution_count": 5,
   "id": "e48c440e",
   "metadata": {
    "execution": {
     "iopub.execute_input": "2025-04-28T00:36:03.998275Z",
     "iopub.status.busy": "2025-04-28T00:36:03.997960Z",
     "iopub.status.idle": "2025-04-28T00:36:04.002692Z",
     "shell.execute_reply": "2025-04-28T00:36:04.001851Z"
    },
    "papermill": {
     "duration": 0.012835,
     "end_time": "2025-04-28T00:36:04.004157",
     "exception": false,
     "start_time": "2025-04-28T00:36:03.991322",
     "status": "completed"
    },
    "tags": []
   },
   "outputs": [],
   "source": [
    "# Select relevant features for the model\n",
    "# Numerical features\n",
    "numeric_features = ['AUC', 'Z_SCORE', 'CNA', 'Gene Expression', 'Methylation']\n",
    "\n",
    "# Categorical features (we'll encode these)\n",
    "categorical_features = [\n",
    "    'GDSC Tissue descriptor 1', \n",
    "    'Cancer Type (matching TCGA label)',\n",
    "    'Microsatellite instability Status (MSI)',\n",
    "    'TARGET',\n",
    "    'TARGET_PATHWAY'\n",
    "]"
   ]
  },
  {
   "cell_type": "code",
   "execution_count": 6,
   "id": "535ac5a4",
   "metadata": {
    "execution": {
     "iopub.execute_input": "2025-04-28T00:36:04.015139Z",
     "iopub.status.busy": "2025-04-28T00:36:04.014835Z",
     "iopub.status.idle": "2025-04-28T00:36:04.045144Z",
     "shell.execute_reply": "2025-04-28T00:36:04.044058Z"
    },
    "papermill": {
     "duration": 0.037878,
     "end_time": "2025-04-28T00:36:04.046976",
     "exception": false,
     "start_time": "2025-04-28T00:36:04.009098",
     "status": "completed"
    },
    "tags": []
   },
   "outputs": [],
   "source": [
    "# Prepare features and target\n",
    "X = gdsc_data[numeric_features + categorical_features]\n",
    "y = gdsc_data['Drug_Sensitivity']"
   ]
  },
  {
   "cell_type": "code",
   "execution_count": 7,
   "id": "78fbc96f",
   "metadata": {
    "execution": {
     "iopub.execute_input": "2025-04-28T00:36:04.058397Z",
     "iopub.status.busy": "2025-04-28T00:36:04.058076Z",
     "iopub.status.idle": "2025-04-28T00:36:05.126784Z",
     "shell.execute_reply": "2025-04-28T00:36:05.125604Z"
    },
    "papermill": {
     "duration": 1.07683,
     "end_time": "2025-04-28T00:36:05.128912",
     "exception": false,
     "start_time": "2025-04-28T00:36:04.052082",
     "status": "completed"
    },
    "tags": []
   },
   "outputs": [
    {
     "name": "stdout",
     "output_type": "stream",
     "text": [
      "Saved original feature set before transformation to 'features_before_transformation.csv'\n"
     ]
    }
   ],
   "source": [
    "# Save the original feature set before transformation\n",
    "X.to_csv('features_before_transformation.csv', index=False)\n",
    "print(\"Saved original feature set before transformation to 'features_before_transformation.csv'\")"
   ]
  },
  {
   "cell_type": "code",
   "execution_count": 8,
   "id": "bc4f1cd5",
   "metadata": {
    "execution": {
     "iopub.execute_input": "2025-04-28T00:36:05.140592Z",
     "iopub.status.busy": "2025-04-28T00:36:05.140269Z",
     "iopub.status.idle": "2025-04-28T00:36:05.145632Z",
     "shell.execute_reply": "2025-04-28T00:36:05.144685Z"
    },
    "papermill": {
     "duration": 0.013217,
     "end_time": "2025-04-28T00:36:05.147396",
     "exception": false,
     "start_time": "2025-04-28T00:36:05.134179",
     "status": "completed"
    },
    "tags": []
   },
   "outputs": [],
   "source": [
    "# Create preprocessor using ColumnTransformer\n",
    "# Using sparse=False for OneHotEncoder to avoid sparse matrix output\n",
    "preprocessor = ColumnTransformer(\n",
    "    transformers=[\n",
    "        ('num', StandardScaler(), numeric_features),\n",
    "        ('cat', OneHotEncoder(handle_unknown='ignore', sparse_output=False), categorical_features)\n",
    "    ])"
   ]
  },
  {
   "cell_type": "code",
   "execution_count": 9,
   "id": "56e46773",
   "metadata": {
    "execution": {
     "iopub.execute_input": "2025-04-28T00:36:05.158887Z",
     "iopub.status.busy": "2025-04-28T00:36:05.158548Z",
     "iopub.status.idle": "2025-04-28T00:36:06.352019Z",
     "shell.execute_reply": "2025-04-28T00:36:06.350862Z"
    },
    "papermill": {
     "duration": 1.201459,
     "end_time": "2025-04-28T00:36:06.353760",
     "exception": false,
     "start_time": "2025-04-28T00:36:05.152301",
     "status": "completed"
    },
    "tags": []
   },
   "outputs": [
    {
     "name": "stdout",
     "output_type": "stream",
     "text": [
      "Training set shape: (138839, 10)\n",
      "Testing set shape: (59503, 10)\n",
      "Saved train and test feature sets before transformation\n"
     ]
    }
   ],
   "source": [
    "# Split the data into training and testing sets\n",
    "X_train, X_test, y_train, y_test = train_test_split(X, y, test_size=0.3, random_state=42, stratify=y)\n",
    "\n",
    "print(f\"Training set shape: {X_train.shape}\")\n",
    "print(f\"Testing set shape: {X_test.shape}\")\n",
    "\n",
    "# Save the original train and test feature sets before transformation\n",
    "X_train.to_csv('X_train_before_transformation.csv', index=False)\n",
    "X_test.to_csv('X_test_before_transformation.csv', index=False)\n",
    "print(\"Saved train and test feature sets before transformation\")"
   ]
  },
  {
   "cell_type": "code",
   "execution_count": 10,
   "id": "8d9cc044",
   "metadata": {
    "execution": {
     "iopub.execute_input": "2025-04-28T00:36:06.365664Z",
     "iopub.status.busy": "2025-04-28T00:36:06.365282Z",
     "iopub.status.idle": "2025-04-28T00:36:06.388282Z",
     "shell.execute_reply": "2025-04-28T00:36:06.387042Z"
    },
    "papermill": {
     "duration": 0.030639,
     "end_time": "2025-04-28T00:36:06.390072",
     "exception": false,
     "start_time": "2025-04-28T00:36:06.359433",
     "status": "completed"
    },
    "tags": []
   },
   "outputs": [
    {
     "data": {
      "text/html": [
       "<div>\n",
       "<style scoped>\n",
       "    .dataframe tbody tr th:only-of-type {\n",
       "        vertical-align: middle;\n",
       "    }\n",
       "\n",
       "    .dataframe tbody tr th {\n",
       "        vertical-align: top;\n",
       "    }\n",
       "\n",
       "    .dataframe thead th {\n",
       "        text-align: right;\n",
       "    }\n",
       "</style>\n",
       "<table border=\"1\" class=\"dataframe\">\n",
       "  <thead>\n",
       "    <tr style=\"text-align: right;\">\n",
       "      <th></th>\n",
       "      <th>184213</th>\n",
       "      <th>125178</th>\n",
       "      <th>141898</th>\n",
       "      <th>62145</th>\n",
       "      <th>55132</th>\n",
       "    </tr>\n",
       "  </thead>\n",
       "  <tbody>\n",
       "    <tr>\n",
       "      <th>AUC</th>\n",
       "      <td>0.988816</td>\n",
       "      <td>0.961416</td>\n",
       "      <td>0.974135</td>\n",
       "      <td>0.988955</td>\n",
       "      <td>0.968834</td>\n",
       "    </tr>\n",
       "    <tr>\n",
       "      <th>Z_SCORE</th>\n",
       "      <td>-0.422874</td>\n",
       "      <td>-0.800332</td>\n",
       "      <td>-0.471554</td>\n",
       "      <td>1.096069</td>\n",
       "      <td>-0.479448</td>\n",
       "    </tr>\n",
       "    <tr>\n",
       "      <th>CNA</th>\n",
       "      <td>1</td>\n",
       "      <td>1</td>\n",
       "      <td>1</td>\n",
       "      <td>1</td>\n",
       "      <td>1</td>\n",
       "    </tr>\n",
       "    <tr>\n",
       "      <th>Gene Expression</th>\n",
       "      <td>1</td>\n",
       "      <td>1</td>\n",
       "      <td>1</td>\n",
       "      <td>1</td>\n",
       "      <td>1</td>\n",
       "    </tr>\n",
       "    <tr>\n",
       "      <th>Methylation</th>\n",
       "      <td>1</td>\n",
       "      <td>1</td>\n",
       "      <td>1</td>\n",
       "      <td>1</td>\n",
       "      <td>1</td>\n",
       "    </tr>\n",
       "    <tr>\n",
       "      <th>GDSC Tissue descriptor 1</th>\n",
       "      <td>lymphoma</td>\n",
       "      <td>aero_dig_tract</td>\n",
       "      <td>bone</td>\n",
       "      <td>lung_NSCLC</td>\n",
       "      <td>lymphoma</td>\n",
       "    </tr>\n",
       "    <tr>\n",
       "      <th>Cancer Type (matching TCGA label)</th>\n",
       "      <td>Unknown</td>\n",
       "      <td>ESCA</td>\n",
       "      <td>Unknown</td>\n",
       "      <td>LUSC</td>\n",
       "      <td>Unknown</td>\n",
       "    </tr>\n",
       "    <tr>\n",
       "      <th>Microsatellite instability Status (MSI)</th>\n",
       "      <td>MSS/MSI-L</td>\n",
       "      <td>MSS/MSI-L</td>\n",
       "      <td>MSS/MSI-L</td>\n",
       "      <td>MSS/MSI-L</td>\n",
       "      <td>MSS/MSI-L</td>\n",
       "    </tr>\n",
       "    <tr>\n",
       "      <th>TARGET</th>\n",
       "      <td>Unknown</td>\n",
       "      <td>ESR</td>\n",
       "      <td>TNKS1, TNKS2</td>\n",
       "      <td>DNA alkylating agent</td>\n",
       "      <td>ESR</td>\n",
       "    </tr>\n",
       "    <tr>\n",
       "      <th>TARGET_PATHWAY</th>\n",
       "      <td>Unclassified</td>\n",
       "      <td>Hormone-related</td>\n",
       "      <td>WNT signaling</td>\n",
       "      <td>DNA replication</td>\n",
       "      <td>Hormone-related</td>\n",
       "    </tr>\n",
       "  </tbody>\n",
       "</table>\n",
       "</div>"
      ],
      "text/plain": [
       "                                               184213           125178  \\\n",
       "AUC                                          0.988816         0.961416   \n",
       "Z_SCORE                                     -0.422874        -0.800332   \n",
       "CNA                                                 1                1   \n",
       "Gene Expression                                     1                1   \n",
       "Methylation                                         1                1   \n",
       "GDSC Tissue descriptor 1                     lymphoma   aero_dig_tract   \n",
       "Cancer Type (matching TCGA label)             Unknown             ESCA   \n",
       "Microsatellite instability Status (MSI)     MSS/MSI-L        MSS/MSI-L   \n",
       "TARGET                                        Unknown              ESR   \n",
       "TARGET_PATHWAY                           Unclassified  Hormone-related   \n",
       "\n",
       "                                                141898                62145   \\\n",
       "AUC                                           0.974135              0.988955   \n",
       "Z_SCORE                                      -0.471554              1.096069   \n",
       "CNA                                                  1                     1   \n",
       "Gene Expression                                      1                     1   \n",
       "Methylation                                          1                     1   \n",
       "GDSC Tissue descriptor 1                          bone            lung_NSCLC   \n",
       "Cancer Type (matching TCGA label)              Unknown                  LUSC   \n",
       "Microsatellite instability Status (MSI)      MSS/MSI-L             MSS/MSI-L   \n",
       "TARGET                                    TNKS1, TNKS2  DNA alkylating agent   \n",
       "TARGET_PATHWAY                           WNT signaling       DNA replication   \n",
       "\n",
       "                                                  55132   \n",
       "AUC                                             0.968834  \n",
       "Z_SCORE                                        -0.479448  \n",
       "CNA                                                    1  \n",
       "Gene Expression                                        1  \n",
       "Methylation                                            1  \n",
       "GDSC Tissue descriptor 1                        lymphoma  \n",
       "Cancer Type (matching TCGA label)                Unknown  \n",
       "Microsatellite instability Status (MSI)        MSS/MSI-L  \n",
       "TARGET                                               ESR  \n",
       "TARGET_PATHWAY                           Hormone-related  "
      ]
     },
     "execution_count": 10,
     "metadata": {},
     "output_type": "execute_result"
    }
   ],
   "source": [
    "X_train.head().T"
   ]
  },
  {
   "cell_type": "code",
   "execution_count": 11,
   "id": "65b1a3e5",
   "metadata": {
    "execution": {
     "iopub.execute_input": "2025-04-28T00:36:06.402224Z",
     "iopub.status.busy": "2025-04-28T00:36:06.401888Z",
     "iopub.status.idle": "2025-04-28T00:36:06.413637Z",
     "shell.execute_reply": "2025-04-28T00:36:06.412739Z"
    },
    "papermill": {
     "duration": 0.019589,
     "end_time": "2025-04-28T00:36:06.415200",
     "exception": false,
     "start_time": "2025-04-28T00:36:06.395611",
     "status": "completed"
    },
    "tags": []
   },
   "outputs": [
    {
     "data": {
      "text/html": [
       "<div>\n",
       "<style scoped>\n",
       "    .dataframe tbody tr th:only-of-type {\n",
       "        vertical-align: middle;\n",
       "    }\n",
       "\n",
       "    .dataframe tbody tr th {\n",
       "        vertical-align: top;\n",
       "    }\n",
       "\n",
       "    .dataframe thead th {\n",
       "        text-align: right;\n",
       "    }\n",
       "</style>\n",
       "<table border=\"1\" class=\"dataframe\">\n",
       "  <thead>\n",
       "    <tr style=\"text-align: right;\">\n",
       "      <th></th>\n",
       "      <th>175400</th>\n",
       "      <th>173880</th>\n",
       "      <th>147597</th>\n",
       "      <th>188281</th>\n",
       "      <th>113681</th>\n",
       "    </tr>\n",
       "  </thead>\n",
       "  <tbody>\n",
       "    <tr>\n",
       "      <th>AUC</th>\n",
       "      <td>0.81517</td>\n",
       "      <td>0.886714</td>\n",
       "      <td>0.726359</td>\n",
       "      <td>0.94894</td>\n",
       "      <td>0.983236</td>\n",
       "    </tr>\n",
       "    <tr>\n",
       "      <th>Z_SCORE</th>\n",
       "      <td>-0.989111</td>\n",
       "      <td>-0.398444</td>\n",
       "      <td>-1.133064</td>\n",
       "      <td>-0.006103</td>\n",
       "      <td>0.658191</td>\n",
       "    </tr>\n",
       "    <tr>\n",
       "      <th>CNA</th>\n",
       "      <td>1</td>\n",
       "      <td>1</td>\n",
       "      <td>1</td>\n",
       "      <td>1</td>\n",
       "      <td>1</td>\n",
       "    </tr>\n",
       "    <tr>\n",
       "      <th>Gene Expression</th>\n",
       "      <td>1</td>\n",
       "      <td>1</td>\n",
       "      <td>1</td>\n",
       "      <td>1</td>\n",
       "      <td>1</td>\n",
       "    </tr>\n",
       "    <tr>\n",
       "      <th>Methylation</th>\n",
       "      <td>1</td>\n",
       "      <td>1</td>\n",
       "      <td>1</td>\n",
       "      <td>1</td>\n",
       "      <td>1</td>\n",
       "    </tr>\n",
       "    <tr>\n",
       "      <th>GDSC Tissue descriptor 1</th>\n",
       "      <td>lung_NSCLC</td>\n",
       "      <td>skin</td>\n",
       "      <td>urogenital_system</td>\n",
       "      <td>nervous_system</td>\n",
       "      <td>nervous_system</td>\n",
       "    </tr>\n",
       "    <tr>\n",
       "      <th>Cancer Type (matching TCGA label)</th>\n",
       "      <td>LUAD</td>\n",
       "      <td>SKCM</td>\n",
       "      <td>CESC</td>\n",
       "      <td>GBM</td>\n",
       "      <td>GBM</td>\n",
       "    </tr>\n",
       "    <tr>\n",
       "      <th>Microsatellite instability Status (MSI)</th>\n",
       "      <td>MSS/MSI-L</td>\n",
       "      <td>MSS/MSI-L</td>\n",
       "      <td>MSS/MSI-L</td>\n",
       "      <td>MSS/MSI-L</td>\n",
       "      <td>MSS/MSI-L</td>\n",
       "    </tr>\n",
       "    <tr>\n",
       "      <th>TARGET</th>\n",
       "      <td>CHEK1, CHEK2, CDK2</td>\n",
       "      <td>G-quadruplex stabiliser</td>\n",
       "      <td>AKT1, AKT2, AKT3</td>\n",
       "      <td>EP300</td>\n",
       "      <td>ADRA1A, ADRB1</td>\n",
       "    </tr>\n",
       "    <tr>\n",
       "      <th>TARGET_PATHWAY</th>\n",
       "      <td>Cell cycle</td>\n",
       "      <td>DNA replication</td>\n",
       "      <td>PI3K/MTOR signaling</td>\n",
       "      <td>Chromatin histone methylation</td>\n",
       "      <td>Other</td>\n",
       "    </tr>\n",
       "  </tbody>\n",
       "</table>\n",
       "</div>"
      ],
      "text/plain": [
       "                                                     175400  \\\n",
       "AUC                                                 0.81517   \n",
       "Z_SCORE                                           -0.989111   \n",
       "CNA                                                       1   \n",
       "Gene Expression                                           1   \n",
       "Methylation                                               1   \n",
       "GDSC Tissue descriptor 1                         lung_NSCLC   \n",
       "Cancer Type (matching TCGA label)                      LUAD   \n",
       "Microsatellite instability Status (MSI)           MSS/MSI-L   \n",
       "TARGET                                   CHEK1, CHEK2, CDK2   \n",
       "TARGET_PATHWAY                                   Cell cycle   \n",
       "\n",
       "                                                          173880  \\\n",
       "AUC                                                     0.886714   \n",
       "Z_SCORE                                                -0.398444   \n",
       "CNA                                                            1   \n",
       "Gene Expression                                                1   \n",
       "Methylation                                                    1   \n",
       "GDSC Tissue descriptor 1                                    skin   \n",
       "Cancer Type (matching TCGA label)                           SKCM   \n",
       "Microsatellite instability Status (MSI)                MSS/MSI-L   \n",
       "TARGET                                   G-quadruplex stabiliser   \n",
       "TARGET_PATHWAY                                   DNA replication   \n",
       "\n",
       "                                                      147597  \\\n",
       "AUC                                                 0.726359   \n",
       "Z_SCORE                                            -1.133064   \n",
       "CNA                                                        1   \n",
       "Gene Expression                                            1   \n",
       "Methylation                                                1   \n",
       "GDSC Tissue descriptor 1                   urogenital_system   \n",
       "Cancer Type (matching TCGA label)                       CESC   \n",
       "Microsatellite instability Status (MSI)            MSS/MSI-L   \n",
       "TARGET                                      AKT1, AKT2, AKT3   \n",
       "TARGET_PATHWAY                           PI3K/MTOR signaling   \n",
       "\n",
       "                                                                188281  \\\n",
       "AUC                                                            0.94894   \n",
       "Z_SCORE                                                      -0.006103   \n",
       "CNA                                                                  1   \n",
       "Gene Expression                                                      1   \n",
       "Methylation                                                          1   \n",
       "GDSC Tissue descriptor 1                                nervous_system   \n",
       "Cancer Type (matching TCGA label)                                  GBM   \n",
       "Microsatellite instability Status (MSI)                      MSS/MSI-L   \n",
       "TARGET                                                           EP300   \n",
       "TARGET_PATHWAY                           Chromatin histone methylation   \n",
       "\n",
       "                                                 113681  \n",
       "AUC                                            0.983236  \n",
       "Z_SCORE                                        0.658191  \n",
       "CNA                                                   1  \n",
       "Gene Expression                                       1  \n",
       "Methylation                                           1  \n",
       "GDSC Tissue descriptor 1                 nervous_system  \n",
       "Cancer Type (matching TCGA label)                   GBM  \n",
       "Microsatellite instability Status (MSI)       MSS/MSI-L  \n",
       "TARGET                                    ADRA1A, ADRB1  \n",
       "TARGET_PATHWAY                                    Other  "
      ]
     },
     "execution_count": 11,
     "metadata": {},
     "output_type": "execute_result"
    }
   ],
   "source": [
    "X_test.head().T"
   ]
  },
  {
   "cell_type": "code",
   "execution_count": 12,
   "id": "d6494bb6",
   "metadata": {
    "execution": {
     "iopub.execute_input": "2025-04-28T00:36:06.427649Z",
     "iopub.status.busy": "2025-04-28T00:36:06.427285Z",
     "iopub.status.idle": "2025-04-28T00:36:36.427263Z",
     "shell.execute_reply": "2025-04-28T00:36:36.426243Z"
    },
    "papermill": {
     "duration": 30.013659,
     "end_time": "2025-04-28T00:36:36.434598",
     "exception": false,
     "start_time": "2025-04-28T00:36:06.420939",
     "status": "completed"
    },
    "tags": []
   },
   "outputs": [
    {
     "name": "stdout",
     "output_type": "stream",
     "text": [
      "Saved train and test feature sets after transformation\n",
      "Training set shape: (138839, 10)\n",
      "Testing set shape: (59503, 10)\n",
      "Transformed training set shape: (138839, 268)\n",
      "Transformed testing set shape: (59503, 268)\n"
     ]
    }
   ],
   "source": [
    "# Transform the data\n",
    "X_train_transformed = preprocessor.fit_transform(X_train)\n",
    "X_test_transformed = preprocessor.transform(X_test)\n",
    "\n",
    "# Get feature names after transformation\n",
    "numeric_feature_names = numeric_features\n",
    "try:\n",
    "    categorical_feature_names = preprocessor.transformers_[1][1].get_feature_names_out(categorical_features)\n",
    "except:\n",
    "    # Fallback if get_feature_names_out is not available\n",
    "    categorical_feature_names = [f\"cat_feature_{i}\" for i in range(X_train_transformed.shape[1] - len(numeric_features))]\n",
    "\n",
    "# Create column names for the transformed data\n",
    "transformed_feature_names = list(numeric_feature_names) + list(categorical_feature_names)\n",
    "\n",
    "# Create DataFrames for the transformed data\n",
    "# Ensure we don't have more column names than columns in the data\n",
    "if len(transformed_feature_names) != X_train_transformed.shape[1]:\n",
    "    print(f\"Warning: Feature name count ({len(transformed_feature_names)}) doesn't match feature count ({X_train_transformed.shape[1]})\")\n",
    "    # Create generic column names if there's a mismatch\n",
    "    transformed_feature_names = [f\"feature_{i}\" for i in range(X_train_transformed.shape[1])]\n",
    "\n",
    "# Create DataFrames with the transformed data\n",
    "X_train_transformed_df = pd.DataFrame(X_train_transformed, columns=transformed_feature_names)\n",
    "X_test_transformed_df = pd.DataFrame(X_test_transformed, columns=transformed_feature_names)\n",
    "\n",
    "# Save the transformed train and test feature sets\n",
    "X_train_transformed_df.to_csv('X_train_after_transformation.csv', index=False)\n",
    "X_test_transformed_df.to_csv('X_test_after_transformation.csv', index=False)\n",
    "print(\"Saved train and test feature sets after transformation\")\n",
    "\n",
    "print(f\"Training set shape: {X_train.shape}\")\n",
    "print(f\"Testing set shape: {X_test.shape}\")\n",
    "print(f\"Transformed training set shape: {X_train_transformed.shape}\")\n",
    "print(f\"Transformed testing set shape: {X_test_transformed.shape}\")"
   ]
  },
  {
   "cell_type": "code",
   "execution_count": 13,
   "id": "06f32d23",
   "metadata": {
    "execution": {
     "iopub.execute_input": "2025-04-28T00:36:36.447070Z",
     "iopub.status.busy": "2025-04-28T00:36:36.446779Z",
     "iopub.status.idle": "2025-04-28T00:36:36.459943Z",
     "shell.execute_reply": "2025-04-28T00:36:36.458817Z"
    },
    "papermill": {
     "duration": 0.021302,
     "end_time": "2025-04-28T00:36:36.461606",
     "exception": false,
     "start_time": "2025-04-28T00:36:36.440304",
     "status": "completed"
    },
    "tags": []
   },
   "outputs": [
    {
     "data": {
      "text/html": [
       "<div>\n",
       "<style scoped>\n",
       "    .dataframe tbody tr th:only-of-type {\n",
       "        vertical-align: middle;\n",
       "    }\n",
       "\n",
       "    .dataframe tbody tr th {\n",
       "        vertical-align: top;\n",
       "    }\n",
       "\n",
       "    .dataframe thead th {\n",
       "        text-align: right;\n",
       "    }\n",
       "</style>\n",
       "<table border=\"1\" class=\"dataframe\">\n",
       "  <thead>\n",
       "    <tr style=\"text-align: right;\">\n",
       "      <th></th>\n",
       "      <th>0</th>\n",
       "      <th>1</th>\n",
       "      <th>2</th>\n",
       "      <th>3</th>\n",
       "      <th>4</th>\n",
       "    </tr>\n",
       "  </thead>\n",
       "  <tbody>\n",
       "    <tr>\n",
       "      <th>AUC</th>\n",
       "      <td>0.907884</td>\n",
       "      <td>0.518976</td>\n",
       "      <td>0.699506</td>\n",
       "      <td>0.909857</td>\n",
       "      <td>0.624265</td>\n",
       "    </tr>\n",
       "    <tr>\n",
       "      <th>Z_SCORE</th>\n",
       "      <td>-0.601823</td>\n",
       "      <td>-1.025983</td>\n",
       "      <td>-0.656526</td>\n",
       "      <td>1.105057</td>\n",
       "      <td>-0.665396</td>\n",
       "    </tr>\n",
       "    <tr>\n",
       "      <th>CNA</th>\n",
       "      <td>0.000000</td>\n",
       "      <td>0.000000</td>\n",
       "      <td>0.000000</td>\n",
       "      <td>0.000000</td>\n",
       "      <td>0.000000</td>\n",
       "    </tr>\n",
       "    <tr>\n",
       "      <th>Gene Expression</th>\n",
       "      <td>0.000000</td>\n",
       "      <td>0.000000</td>\n",
       "      <td>0.000000</td>\n",
       "      <td>0.000000</td>\n",
       "      <td>0.000000</td>\n",
       "    </tr>\n",
       "    <tr>\n",
       "      <th>Methylation</th>\n",
       "      <td>0.000000</td>\n",
       "      <td>0.000000</td>\n",
       "      <td>0.000000</td>\n",
       "      <td>0.000000</td>\n",
       "      <td>0.000000</td>\n",
       "    </tr>\n",
       "    <tr>\n",
       "      <th>...</th>\n",
       "      <td>...</td>\n",
       "      <td>...</td>\n",
       "      <td>...</td>\n",
       "      <td>...</td>\n",
       "      <td>...</td>\n",
       "    </tr>\n",
       "    <tr>\n",
       "      <th>TARGET_PATHWAY_Protein stability and degradation</th>\n",
       "      <td>0.000000</td>\n",
       "      <td>0.000000</td>\n",
       "      <td>0.000000</td>\n",
       "      <td>0.000000</td>\n",
       "      <td>0.000000</td>\n",
       "    </tr>\n",
       "    <tr>\n",
       "      <th>TARGET_PATHWAY_RTK signaling</th>\n",
       "      <td>0.000000</td>\n",
       "      <td>0.000000</td>\n",
       "      <td>0.000000</td>\n",
       "      <td>0.000000</td>\n",
       "      <td>0.000000</td>\n",
       "    </tr>\n",
       "    <tr>\n",
       "      <th>TARGET_PATHWAY_Unclassified</th>\n",
       "      <td>1.000000</td>\n",
       "      <td>0.000000</td>\n",
       "      <td>0.000000</td>\n",
       "      <td>0.000000</td>\n",
       "      <td>0.000000</td>\n",
       "    </tr>\n",
       "    <tr>\n",
       "      <th>TARGET_PATHWAY_WNT signaling</th>\n",
       "      <td>0.000000</td>\n",
       "      <td>0.000000</td>\n",
       "      <td>1.000000</td>\n",
       "      <td>0.000000</td>\n",
       "      <td>0.000000</td>\n",
       "    </tr>\n",
       "    <tr>\n",
       "      <th>TARGET_PATHWAY_p53 pathway</th>\n",
       "      <td>0.000000</td>\n",
       "      <td>0.000000</td>\n",
       "      <td>0.000000</td>\n",
       "      <td>0.000000</td>\n",
       "      <td>0.000000</td>\n",
       "    </tr>\n",
       "  </tbody>\n",
       "</table>\n",
       "<p>268 rows × 5 columns</p>\n",
       "</div>"
      ],
      "text/plain": [
       "                                                         0         1  \\\n",
       "AUC                                               0.907884  0.518976   \n",
       "Z_SCORE                                          -0.601823 -1.025983   \n",
       "CNA                                               0.000000  0.000000   \n",
       "Gene Expression                                   0.000000  0.000000   \n",
       "Methylation                                       0.000000  0.000000   \n",
       "...                                                    ...       ...   \n",
       "TARGET_PATHWAY_Protein stability and degradation  0.000000  0.000000   \n",
       "TARGET_PATHWAY_RTK signaling                      0.000000  0.000000   \n",
       "TARGET_PATHWAY_Unclassified                       1.000000  0.000000   \n",
       "TARGET_PATHWAY_WNT signaling                      0.000000  0.000000   \n",
       "TARGET_PATHWAY_p53 pathway                        0.000000  0.000000   \n",
       "\n",
       "                                                         2         3         4  \n",
       "AUC                                               0.699506  0.909857  0.624265  \n",
       "Z_SCORE                                          -0.656526  1.105057 -0.665396  \n",
       "CNA                                               0.000000  0.000000  0.000000  \n",
       "Gene Expression                                   0.000000  0.000000  0.000000  \n",
       "Methylation                                       0.000000  0.000000  0.000000  \n",
       "...                                                    ...       ...       ...  \n",
       "TARGET_PATHWAY_Protein stability and degradation  0.000000  0.000000  0.000000  \n",
       "TARGET_PATHWAY_RTK signaling                      0.000000  0.000000  0.000000  \n",
       "TARGET_PATHWAY_Unclassified                       0.000000  0.000000  0.000000  \n",
       "TARGET_PATHWAY_WNT signaling                      1.000000  0.000000  0.000000  \n",
       "TARGET_PATHWAY_p53 pathway                        0.000000  0.000000  0.000000  \n",
       "\n",
       "[268 rows x 5 columns]"
      ]
     },
     "execution_count": 13,
     "metadata": {},
     "output_type": "execute_result"
    }
   ],
   "source": [
    "X_train_transformed_df.head().T"
   ]
  },
  {
   "cell_type": "code",
   "execution_count": 14,
   "id": "eb2c5501",
   "metadata": {
    "execution": {
     "iopub.execute_input": "2025-04-28T00:36:36.475965Z",
     "iopub.status.busy": "2025-04-28T00:36:36.475603Z",
     "iopub.status.idle": "2025-04-28T00:36:36.487467Z",
     "shell.execute_reply": "2025-04-28T00:36:36.486580Z"
    },
    "papermill": {
     "duration": 0.021567,
     "end_time": "2025-04-28T00:36:36.489220",
     "exception": false,
     "start_time": "2025-04-28T00:36:36.467653",
     "status": "completed"
    },
    "tags": []
   },
   "outputs": [
    {
     "data": {
      "text/html": [
       "<div>\n",
       "<style scoped>\n",
       "    .dataframe tbody tr th:only-of-type {\n",
       "        vertical-align: middle;\n",
       "    }\n",
       "\n",
       "    .dataframe tbody tr th {\n",
       "        vertical-align: top;\n",
       "    }\n",
       "\n",
       "    .dataframe thead th {\n",
       "        text-align: right;\n",
       "    }\n",
       "</style>\n",
       "<table border=\"1\" class=\"dataframe\">\n",
       "  <thead>\n",
       "    <tr style=\"text-align: right;\">\n",
       "      <th></th>\n",
       "      <th>0</th>\n",
       "      <th>1</th>\n",
       "      <th>2</th>\n",
       "      <th>3</th>\n",
       "      <th>4</th>\n",
       "    </tr>\n",
       "  </thead>\n",
       "  <tbody>\n",
       "    <tr>\n",
       "      <th>AUC</th>\n",
       "      <td>-1.556796</td>\n",
       "      <td>-0.541322</td>\n",
       "      <td>-2.817353</td>\n",
       "      <td>0.341896</td>\n",
       "      <td>0.828683</td>\n",
       "    </tr>\n",
       "    <tr>\n",
       "      <th>Z_SCORE</th>\n",
       "      <td>-1.238119</td>\n",
       "      <td>-0.574370</td>\n",
       "      <td>-1.399884</td>\n",
       "      <td>-0.133485</td>\n",
       "      <td>0.613001</td>\n",
       "    </tr>\n",
       "    <tr>\n",
       "      <th>CNA</th>\n",
       "      <td>0.000000</td>\n",
       "      <td>0.000000</td>\n",
       "      <td>0.000000</td>\n",
       "      <td>0.000000</td>\n",
       "      <td>0.000000</td>\n",
       "    </tr>\n",
       "    <tr>\n",
       "      <th>Gene Expression</th>\n",
       "      <td>0.000000</td>\n",
       "      <td>0.000000</td>\n",
       "      <td>0.000000</td>\n",
       "      <td>0.000000</td>\n",
       "      <td>0.000000</td>\n",
       "    </tr>\n",
       "    <tr>\n",
       "      <th>Methylation</th>\n",
       "      <td>0.000000</td>\n",
       "      <td>0.000000</td>\n",
       "      <td>0.000000</td>\n",
       "      <td>0.000000</td>\n",
       "      <td>0.000000</td>\n",
       "    </tr>\n",
       "    <tr>\n",
       "      <th>...</th>\n",
       "      <td>...</td>\n",
       "      <td>...</td>\n",
       "      <td>...</td>\n",
       "      <td>...</td>\n",
       "      <td>...</td>\n",
       "    </tr>\n",
       "    <tr>\n",
       "      <th>TARGET_PATHWAY_Protein stability and degradation</th>\n",
       "      <td>0.000000</td>\n",
       "      <td>0.000000</td>\n",
       "      <td>0.000000</td>\n",
       "      <td>0.000000</td>\n",
       "      <td>0.000000</td>\n",
       "    </tr>\n",
       "    <tr>\n",
       "      <th>TARGET_PATHWAY_RTK signaling</th>\n",
       "      <td>0.000000</td>\n",
       "      <td>0.000000</td>\n",
       "      <td>0.000000</td>\n",
       "      <td>0.000000</td>\n",
       "      <td>0.000000</td>\n",
       "    </tr>\n",
       "    <tr>\n",
       "      <th>TARGET_PATHWAY_Unclassified</th>\n",
       "      <td>0.000000</td>\n",
       "      <td>0.000000</td>\n",
       "      <td>0.000000</td>\n",
       "      <td>0.000000</td>\n",
       "      <td>0.000000</td>\n",
       "    </tr>\n",
       "    <tr>\n",
       "      <th>TARGET_PATHWAY_WNT signaling</th>\n",
       "      <td>0.000000</td>\n",
       "      <td>0.000000</td>\n",
       "      <td>0.000000</td>\n",
       "      <td>0.000000</td>\n",
       "      <td>0.000000</td>\n",
       "    </tr>\n",
       "    <tr>\n",
       "      <th>TARGET_PATHWAY_p53 pathway</th>\n",
       "      <td>0.000000</td>\n",
       "      <td>0.000000</td>\n",
       "      <td>0.000000</td>\n",
       "      <td>0.000000</td>\n",
       "      <td>0.000000</td>\n",
       "    </tr>\n",
       "  </tbody>\n",
       "</table>\n",
       "<p>268 rows × 5 columns</p>\n",
       "</div>"
      ],
      "text/plain": [
       "                                                         0         1  \\\n",
       "AUC                                              -1.556796 -0.541322   \n",
       "Z_SCORE                                          -1.238119 -0.574370   \n",
       "CNA                                               0.000000  0.000000   \n",
       "Gene Expression                                   0.000000  0.000000   \n",
       "Methylation                                       0.000000  0.000000   \n",
       "...                                                    ...       ...   \n",
       "TARGET_PATHWAY_Protein stability and degradation  0.000000  0.000000   \n",
       "TARGET_PATHWAY_RTK signaling                      0.000000  0.000000   \n",
       "TARGET_PATHWAY_Unclassified                       0.000000  0.000000   \n",
       "TARGET_PATHWAY_WNT signaling                      0.000000  0.000000   \n",
       "TARGET_PATHWAY_p53 pathway                        0.000000  0.000000   \n",
       "\n",
       "                                                         2         3         4  \n",
       "AUC                                              -2.817353  0.341896  0.828683  \n",
       "Z_SCORE                                          -1.399884 -0.133485  0.613001  \n",
       "CNA                                               0.000000  0.000000  0.000000  \n",
       "Gene Expression                                   0.000000  0.000000  0.000000  \n",
       "Methylation                                       0.000000  0.000000  0.000000  \n",
       "...                                                    ...       ...       ...  \n",
       "TARGET_PATHWAY_Protein stability and degradation  0.000000  0.000000  0.000000  \n",
       "TARGET_PATHWAY_RTK signaling                      0.000000  0.000000  0.000000  \n",
       "TARGET_PATHWAY_Unclassified                       0.000000  0.000000  0.000000  \n",
       "TARGET_PATHWAY_WNT signaling                      0.000000  0.000000  0.000000  \n",
       "TARGET_PATHWAY_p53 pathway                        0.000000  0.000000  0.000000  \n",
       "\n",
       "[268 rows x 5 columns]"
      ]
     },
     "execution_count": 14,
     "metadata": {},
     "output_type": "execute_result"
    }
   ],
   "source": [
    "X_test_transformed_df.head().T"
   ]
  },
  {
   "cell_type": "code",
   "execution_count": 15,
   "id": "b2fa8849",
   "metadata": {
    "execution": {
     "iopub.execute_input": "2025-04-28T00:36:36.502818Z",
     "iopub.status.busy": "2025-04-28T00:36:36.502439Z",
     "iopub.status.idle": "2025-04-28T00:36:37.077771Z",
     "shell.execute_reply": "2025-04-28T00:36:37.076862Z"
    },
    "papermill": {
     "duration": 0.583997,
     "end_time": "2025-04-28T00:36:37.079350",
     "exception": false,
     "start_time": "2025-04-28T00:36:36.495353",
     "status": "completed"
    },
    "tags": []
   },
   "outputs": [
    {
     "name": "stdout",
     "output_type": "stream",
     "text": [
      "\n",
      "Demonstration of polynomial kernel transformation:\n",
      "Original 2D point: [ 0.5 -0.3]\n",
      "Transformed point (6D): [ 1.          0.70710678 -0.42426407  0.25       -0.21213203  0.09      ]\n"
     ]
    },
    {
     "data": {
      "text/plain": [
       "array([ 1.        ,  0.70710678, -0.42426407,  0.25      , -0.21213203,\n",
       "        0.09      ])"
      ]
     },
     "execution_count": 15,
     "metadata": {},
     "output_type": "execute_result"
    }
   ],
   "source": [
    "# Example of polynomial kernel transformation for a 2D point\n",
    "def polynomial_kernel_transformation(x1, x2, r=1, d=2):\n",
    "    \"\"\"\n",
    "    Demonstration of polynomial kernel transformation for a 2D point\n",
    "    \"\"\"\n",
    "    # Original 2D point\n",
    "    point = np.array([x1, x2])\n",
    "    print(f\"Original 2D point: {point}\")\n",
    "    \n",
    "    # For polynomial kernel with d=2, r=1, the transformation is:\n",
    "    # Φ(x) = [1, √2x₁, √2x₂, x₁², √2x₁x₂, x₂²]\n",
    "    transformed = np.array([\n",
    "        1, \n",
    "        np.sqrt(2)*x1, \n",
    "        np.sqrt(2)*x2, \n",
    "        x1**2, \n",
    "        np.sqrt(2)*x1*x2, \n",
    "        x2**2\n",
    "    ])\n",
    "    \n",
    "    print(f\"Transformed point (6D): {transformed}\")\n",
    "    \n",
    "    # Visualize the transformation\n",
    "    plt.figure(figsize=(10, 5))\n",
    "    \n",
    "    # Original 2D space\n",
    "    plt.subplot(1, 2, 1)\n",
    "    plt.scatter(x1, x2, color='red', s=100)\n",
    "    plt.grid(True)\n",
    "    plt.xlim(-2, 2)\n",
    "    plt.ylim(-2, 2)\n",
    "    plt.title('Original 2D Space')\n",
    "    plt.xlabel('x₁')\n",
    "    plt.ylabel('x₂')\n",
    "    \n",
    "    # Visualize 3 dimensions of the transformed space\n",
    "    plt.subplot(1, 2, 2)\n",
    "    ax = plt.axes(projection='3d')\n",
    "    ax.scatter3D(x1**2, np.sqrt(2)*x1*x2, x2**2, color='blue', s=100)\n",
    "    ax.set_xlabel('x₁²')\n",
    "    ax.set_ylabel('√2x₁x₂')\n",
    "    ax.set_zlabel('x₂²')\n",
    "    ax.set_title('3D Projection of 6D Transformed Space')\n",
    "    \n",
    "    plt.tight_layout()\n",
    "    plt.savefig('polynomial_kernel_transformation.png')\n",
    "    plt.close()\n",
    "    \n",
    "    return transformed\n",
    "\n",
    "\n",
    "# Demonstrate polynomial kernel transformation\n",
    "print(\"\\nDemonstration of polynomial kernel transformation:\")\n",
    "polynomial_kernel_transformation(0.5, -0.3, r=1, d=2)"
   ]
  },
  {
   "cell_type": "code",
   "execution_count": 16,
   "id": "ab2e2eaf",
   "metadata": {
    "execution": {
     "iopub.execute_input": "2025-04-28T00:36:37.093794Z",
     "iopub.status.busy": "2025-04-28T00:36:37.093098Z",
     "iopub.status.idle": "2025-04-28T00:36:37.097921Z",
     "shell.execute_reply": "2025-04-28T00:36:37.096946Z"
    },
    "papermill": {
     "duration": 0.013543,
     "end_time": "2025-04-28T00:36:37.099347",
     "exception": false,
     "start_time": "2025-04-28T00:36:37.085804",
     "status": "completed"
    },
    "tags": []
   },
   "outputs": [],
   "source": [
    "# Create SVM pipelines with different kernels\n",
    "kernels = ['linear', 'poly', 'rbf']\n",
    "C_values = [0.1, 1, 10, 100]\n",
    "\n",
    "results = {}"
   ]
  },
  {
   "cell_type": "code",
   "execution_count": 17,
   "id": "b6d3d079",
   "metadata": {
    "execution": {
     "iopub.execute_input": "2025-04-28T00:36:37.113649Z",
     "iopub.status.busy": "2025-04-28T00:36:37.113264Z",
     "iopub.status.idle": "2025-04-28T00:36:37.131638Z",
     "shell.execute_reply": "2025-04-28T00:36:37.130554Z"
    },
    "papermill": {
     "duration": 0.027229,
     "end_time": "2025-04-28T00:36:37.133134",
     "exception": false,
     "start_time": "2025-04-28T00:36:37.105905",
     "status": "completed"
    },
    "tags": []
   },
   "outputs": [
    {
     "name": "stdout",
     "output_type": "stream",
     "text": [
      "\n",
      "Using 30000 samples for model training\n"
     ]
    }
   ],
   "source": [
    "# Given the large dataset size, we'll use a subset for initial model training\n",
    "# This is a common approach for computational efficiency\n",
    "sample_size = min(30000, len(X_train))  # Use at most 30,000 samples\n",
    "indices = np.random.choice(len(X_train), sample_size, replace=False)\n",
    "X_train_sample = X_train.iloc[indices]\n",
    "y_train_sample = y_train.iloc[indices]\n",
    "\n",
    "print(f\"\\nUsing {sample_size} samples for model training\")"
   ]
  },
  {
   "cell_type": "code",
   "execution_count": 18,
   "id": "a28d41a8",
   "metadata": {
    "execution": {
     "iopub.execute_input": "2025-04-28T00:36:37.147468Z",
     "iopub.status.busy": "2025-04-28T00:36:37.147181Z",
     "iopub.status.idle": "2025-04-28T00:36:37.225634Z",
     "shell.execute_reply": "2025-04-28T00:36:37.224774Z"
    },
    "papermill": {
     "duration": 0.087465,
     "end_time": "2025-04-28T00:36:37.227333",
     "exception": false,
     "start_time": "2025-04-28T00:36:37.139868",
     "status": "completed"
    },
    "tags": []
   },
   "outputs": [],
   "source": [
    "# For visualization of decision boundaries, we need a 2D dataset\n",
    "# Create a simplified 2D dataset using the first two numeric features\n",
    "X_2d = X[[numeric_features[0], numeric_features[1]]]  # Using AUC and Z_SCORE\n",
    "X_2d_train, X_2d_test, y_2d_train, y_2d_test = train_test_split(\n",
    "    X_2d, y, test_size=0.3, random_state=42, stratify=y\n",
    ")"
   ]
  },
  {
   "cell_type": "code",
   "execution_count": 19,
   "id": "892b29fd",
   "metadata": {
    "execution": {
     "iopub.execute_input": "2025-04-28T00:36:37.241689Z",
     "iopub.status.busy": "2025-04-28T00:36:37.241354Z",
     "iopub.status.idle": "2025-04-28T00:36:37.256887Z",
     "shell.execute_reply": "2025-04-28T00:36:37.256078Z"
    },
    "papermill": {
     "duration": 0.024385,
     "end_time": "2025-04-28T00:36:37.258654",
     "exception": false,
     "start_time": "2025-04-28T00:36:37.234269",
     "status": "completed"
    },
    "tags": []
   },
   "outputs": [],
   "source": [
    "# Standardize the 2D dataset\n",
    "scaler_2d = StandardScaler()\n",
    "X_2d_train_scaled = scaler_2d.fit_transform(X_2d_train)\n",
    "X_2d_test_scaled = scaler_2d.transform(X_2d_test)"
   ]
  },
  {
   "cell_type": "code",
   "execution_count": 20,
   "id": "62ca64f1",
   "metadata": {
    "execution": {
     "iopub.execute_input": "2025-04-28T00:36:37.273642Z",
     "iopub.status.busy": "2025-04-28T00:36:37.272829Z",
     "iopub.status.idle": "2025-04-28T00:36:37.280953Z",
     "shell.execute_reply": "2025-04-28T00:36:37.279998Z"
    },
    "papermill": {
     "duration": 0.017242,
     "end_time": "2025-04-28T00:36:37.282556",
     "exception": false,
     "start_time": "2025-04-28T00:36:37.265314",
     "status": "completed"
    },
    "tags": []
   },
   "outputs": [],
   "source": [
    "# For SVM decision boundary visualization\n",
    "def plot_decision_boundary(X, y, model, title, filename):\n",
    "    # Create a mesh grid\n",
    "    h = .02  # step size in the mesh\n",
    "    x_min, x_max = X[:, 0].min() - 1, X[:, 0].max() + 1\n",
    "    y_min, y_max = X[:, 1].min() - 1, X[:, 1].max() + 1\n",
    "    xx, yy = np.meshgrid(np.arange(x_min, x_max, h), np.arange(y_min, y_max, h))\n",
    "    \n",
    "    # Get predictions for each point in the mesh\n",
    "    Z = model.predict(np.c_[xx.ravel(), yy.ravel()])\n",
    "    Z = Z.reshape(xx.shape)\n",
    "    \n",
    "    plt.figure(figsize=(10, 8))\n",
    "    \n",
    "    # Plot the decision boundary\n",
    "    plt.contourf(xx, yy, Z, alpha=0.3, cmap=plt.cm.RdBu)\n",
    "    \n",
    "    # Plot the training points\n",
    "    scatter = plt.scatter(X[:, 0], X[:, 1], c=y, edgecolors='k', cmap=plt.cm.RdBu)\n",
    "    \n",
    "    plt.title(title)\n",
    "    plt.xlabel(numeric_features[0])\n",
    "    plt.ylabel(numeric_features[1])\n",
    "    plt.colorbar(scatter)\n",
    "    plt.savefig(filename)\n",
    "    plt.close()"
   ]
  },
  {
   "cell_type": "code",
   "execution_count": 21,
   "id": "95628126",
   "metadata": {
    "execution": {
     "iopub.execute_input": "2025-04-28T00:36:37.296890Z",
     "iopub.status.busy": "2025-04-28T00:36:37.296511Z",
     "iopub.status.idle": "2025-04-28T03:53:35.208467Z",
     "shell.execute_reply": "2025-04-28T03:53:35.207587Z"
    },
    "papermill": {
     "duration": 11817.921103,
     "end_time": "2025-04-28T03:53:35.210108",
     "exception": false,
     "start_time": "2025-04-28T00:36:37.289005",
     "status": "completed"
    },
    "tags": []
   },
   "outputs": [
    {
     "name": "stdout",
     "output_type": "stream",
     "text": [
      "\n",
      "--- SVM with linear kernel ---\n",
      "C = 0.1, Accuracy: 0.8920\n",
      "C = 1, Accuracy: 0.9000\n",
      "C = 10, Accuracy: 0.9009\n",
      "C = 100, Accuracy: 0.9009\n",
      "\n",
      "--- SVM with poly kernel ---\n",
      "C = 0.1, Accuracy: 0.8699\n",
      "C = 1, Accuracy: 0.9059\n",
      "C = 10, Accuracy: 0.9066\n",
      "C = 100, Accuracy: 0.9012\n",
      "\n",
      "--- SVM with rbf kernel ---\n",
      "C = 0.1, Accuracy: 0.8700\n",
      "C = 1, Accuracy: 0.9059\n",
      "C = 10, Accuracy: 0.9104\n",
      "C = 100, Accuracy: 0.9089\n"
     ]
    }
   ],
   "source": [
    "for kernel in kernels:\n",
    "    print(f\"\\n--- SVM with {kernel} kernel ---\")\n",
    "    results[kernel] = []\n",
    "    \n",
    "    for C in C_values:\n",
    "        # Create and train SVM pipeline\n",
    "        svm_pipeline = Pipeline([\n",
    "            ('preprocessor', preprocessor),\n",
    "            ('classifier', SVC(kernel=kernel, C=C, random_state=42, probability=True))\n",
    "        ])\n",
    "        \n",
    "        # Fit on training data\n",
    "        svm_pipeline.fit(X_train_sample, y_train_sample)\n",
    "        \n",
    "        # Predict on test set\n",
    "        y_pred = svm_pipeline.predict(X_test)\n",
    "        \n",
    "        # Calculate accuracy\n",
    "        accuracy = accuracy_score(y_test, y_pred)\n",
    "        \n",
    "        # Store results\n",
    "        results[kernel].append({\n",
    "            'C': C,\n",
    "            'accuracy': accuracy,\n",
    "            'predictions': y_pred,\n",
    "            'pipeline': svm_pipeline\n",
    "        })\n",
    "        \n",
    "        print(f\"C = {C}, Accuracy: {accuracy:.4f}\")\n",
    "        \n",
    "        # Create and save confusion matrix for this model\n",
    "        cm = confusion_matrix(y_test, y_pred)\n",
    "        plt.figure(figsize=(8, 6))\n",
    "        \n",
    "        # Calculate sensitivity and specificity\n",
    "        tn, fp, fn, tp = cm.ravel()\n",
    "        sensitivity = tp / (tp + fn)\n",
    "        specificity = tn / (tn + fp)\n",
    "        \n",
    "        # Display confusion matrix as heatmap\n",
    "        sns.heatmap(cm, annot=True, fmt='d', cmap='Blues')\n",
    "        plt.title(f\"{kernel.capitalize()} Kernel (C={C})\\n\" +\n",
    "                  f\"Accuracy: {accuracy:.4f}\\n\" +\n",
    "                  f\"Sensitivity: {sensitivity:.4f}, Specificity: {specificity:.4f}\")\n",
    "        plt.xlabel('Predicted')\n",
    "        plt.ylabel('Actual')\n",
    "        plt.tight_layout()\n",
    "        plt.savefig(f'confusion_matrix_{kernel}_C_{C}.png')\n",
    "        plt.close()\n",
    "        \n",
    "        # Save classification report\n",
    "        report = classification_report(y_test, y_pred, output_dict=True)\n",
    "        report_df = pd.DataFrame(report).transpose()\n",
    "        \n",
    "        # Visualize classification report\n",
    "        plt.figure(figsize=(10, 6))\n",
    "        sns.heatmap(report_df.iloc[:-1, :].astype(float), annot=True, cmap='viridis')\n",
    "        plt.title(f'Classification Report: {kernel.capitalize()} Kernel (C={C})')\n",
    "        plt.tight_layout()\n",
    "        plt.savefig(f'classification_report_{kernel}_C_{C}.png')\n",
    "        plt.close()"
   ]
  },
  {
   "cell_type": "code",
   "execution_count": 22,
   "id": "219f67d3",
   "metadata": {
    "execution": {
     "iopub.execute_input": "2025-04-28T03:53:35.226123Z",
     "iopub.status.busy": "2025-04-28T03:53:35.225754Z",
     "iopub.status.idle": "2025-04-28T03:53:35.232209Z",
     "shell.execute_reply": "2025-04-28T03:53:35.231080Z"
    },
    "papermill": {
     "duration": 0.01629,
     "end_time": "2025-04-28T03:53:35.233842",
     "exception": false,
     "start_time": "2025-04-28T03:53:35.217552",
     "status": "completed"
    },
    "tags": []
   },
   "outputs": [
    {
     "name": "stdout",
     "output_type": "stream",
     "text": [
      "\n",
      "Best linear model: C=100, Accuracy=0.9009\n",
      "\n",
      "Best poly model: C=10, Accuracy=0.9066\n",
      "\n",
      "Best rbf model: C=10, Accuracy=0.9104\n"
     ]
    }
   ],
   "source": [
    "# Find the best model for each kernel\n",
    "best_models = {}\n",
    "for kernel in kernels:\n",
    "    best_idx = np.argmax([result['accuracy'] for result in results[kernel]])\n",
    "    best_models[kernel] = results[kernel][best_idx]\n",
    "    print(f\"\\nBest {kernel} model: C={best_models[kernel]['C']}, Accuracy={best_models[kernel]['accuracy']:.4f}\")"
   ]
  },
  {
   "cell_type": "code",
   "execution_count": 23,
   "id": "b8e28f1a",
   "metadata": {
    "execution": {
     "iopub.execute_input": "2025-04-28T03:53:35.249616Z",
     "iopub.status.busy": "2025-04-28T03:53:35.249290Z",
     "iopub.status.idle": "2025-04-28T05:06:28.796907Z",
     "shell.execute_reply": "2025-04-28T05:06:28.795874Z"
    },
    "papermill": {
     "duration": 4373.557675,
     "end_time": "2025-04-28T05:06:28.798743",
     "exception": false,
     "start_time": "2025-04-28T03:53:35.241068",
     "status": "completed"
    },
    "tags": []
   },
   "outputs": [
    {
     "name": "stdout",
     "output_type": "stream",
     "text": [
      "\n",
      "--- Training 2D models with best C values for decision boundary visualization ---\n",
      "2D Linear SVM with best C=100: Accuracy = 0.8050\n",
      "2D Poly SVM with best C=10: Accuracy = 0.7979\n",
      "2D Rbf SVM with best C=10: Accuracy = 0.8051\n"
     ]
    }
   ],
   "source": [
    "print(\"\\n--- Training 2D models with best C values for decision boundary visualization ---\")\n",
    "for kernel in kernels:\n",
    "    best_C = best_models[kernel]['C']\n",
    "    # Train SVM model on 2D data with best C value for this kernel\n",
    "    model_2d = SVC(kernel=kernel, C=best_C, random_state=42)\n",
    "    model_2d.fit(X_2d_train_scaled, y_2d_train)\n",
    "    \n",
    "    # Calculate accuracy on test set\n",
    "    accuracy = accuracy_score(y_2d_test, model_2d.predict(X_2d_test_scaled))\n",
    "    print(f\"2D {kernel.capitalize()} SVM with best C={best_C}: Accuracy = {accuracy:.4f}\")\n",
    "    \n",
    "    # Plot decision boundary\n",
    "    plot_decision_boundary(\n",
    "        X_2d_train_scaled, y_2d_train, model_2d, \n",
    "        f\"{kernel.capitalize()} SVM Decision Boundary (C={best_C}, Accuracy={accuracy:.4f})\",\n",
    "        f\"{kernel}_svm_best_decision_boundary.png\"\n",
    "    )"
   ]
  },
  {
   "cell_type": "code",
   "execution_count": 24,
   "id": "36906492",
   "metadata": {
    "execution": {
     "iopub.execute_input": "2025-04-28T05:06:28.815828Z",
     "iopub.status.busy": "2025-04-28T05:06:28.815448Z",
     "iopub.status.idle": "2025-04-28T05:06:29.490117Z",
     "shell.execute_reply": "2025-04-28T05:06:29.489140Z"
    },
    "papermill": {
     "duration": 0.684963,
     "end_time": "2025-04-28T05:06:29.491782",
     "exception": false,
     "start_time": "2025-04-28T05:06:28.806819",
     "status": "completed"
    },
    "tags": []
   },
   "outputs": [],
   "source": [
    "# Visualize confusion matrices for the best models\n",
    "plt.figure(figsize=(18, 6))\n",
    "\n",
    "for i, kernel in enumerate(kernels):\n",
    "    plt.subplot(1, 3, i+1)\n",
    "    cm = confusion_matrix(y_test, best_models[kernel]['predictions'])\n",
    "    \n",
    "    # Calculate sensitivity and specificity\n",
    "    tn, fp, fn, tp = cm.ravel()\n",
    "    sensitivity = tp / (tp + fn)\n",
    "    specificity = tn / (tn + fp)\n",
    "    \n",
    "    # Display confusion matrix as heatmap\n",
    "    sns.heatmap(cm, annot=True, fmt='d', cmap='Blues')\n",
    "    plt.title(f\"{kernel.capitalize()} Kernel (C={best_models[kernel]['C']})\\n\" +\n",
    "              f\"Accuracy: {best_models[kernel]['accuracy']:.4f}\\n\" +\n",
    "              f\"Sensitivity: {sensitivity:.4f}, Specificity: {specificity:.4f}\")\n",
    "    plt.xlabel('Predicted')\n",
    "    plt.ylabel('Actual')\n",
    "\n",
    "plt.tight_layout()\n",
    "plt.savefig('svm_confusion_matrices.png')\n",
    "plt.close()"
   ]
  },
  {
   "cell_type": "code",
   "execution_count": 25,
   "id": "dce4a05f",
   "metadata": {
    "execution": {
     "iopub.execute_input": "2025-04-28T05:06:29.507876Z",
     "iopub.status.busy": "2025-04-28T05:06:29.507564Z",
     "iopub.status.idle": "2025-04-28T05:06:29.855943Z",
     "shell.execute_reply": "2025-04-28T05:06:29.855038Z"
    },
    "papermill": {
     "duration": 0.358214,
     "end_time": "2025-04-28T05:06:29.857481",
     "exception": false,
     "start_time": "2025-04-28T05:06:29.499267",
     "status": "completed"
    },
    "tags": []
   },
   "outputs": [],
   "source": [
    "# Compare kernel performances\n",
    "plt.figure(figsize=(10, 6))\n",
    "for kernel in kernels:\n",
    "    accuracies = [result['accuracy'] for result in results[kernel]]\n",
    "    plt.plot(C_values, accuracies, marker='o', label=kernel)\n",
    "\n",
    "plt.xscale('log')\n",
    "plt.xlabel('Cost Parameter (C)')\n",
    "plt.ylabel('Accuracy')\n",
    "plt.title('SVM Performance Comparison Across Kernels')\n",
    "plt.legend()\n",
    "plt.grid(True)\n",
    "plt.savefig('svm_kernel_comparison.png')\n",
    "plt.close()"
   ]
  },
  {
   "cell_type": "code",
   "execution_count": 26,
   "id": "163952aa",
   "metadata": {
    "execution": {
     "iopub.execute_input": "2025-04-28T05:06:29.873747Z",
     "iopub.status.busy": "2025-04-28T05:06:29.873312Z",
     "iopub.status.idle": "2025-04-28T05:06:30.288331Z",
     "shell.execute_reply": "2025-04-28T05:06:30.287476Z"
    },
    "papermill": {
     "duration": 0.424928,
     "end_time": "2025-04-28T05:06:30.290002",
     "exception": false,
     "start_time": "2025-04-28T05:06:29.865074",
     "status": "completed"
    },
    "tags": []
   },
   "outputs": [
    {
     "name": "stdout",
     "output_type": "stream",
     "text": [
      "Number of features after preprocessing: 268\n",
      "Number of coefficients: 268\n"
     ]
    }
   ],
   "source": [
    "# Feature importance analysis\n",
    "# Since SVMs don't provide feature importance directly, we'll analyze coefficients for linear kernel\n",
    "if 'linear' in best_models:\n",
    "    try:\n",
    "        linear_model = best_models['linear']['pipeline']\n",
    "        # Extract the SVC classifier from the pipeline\n",
    "        svc = linear_model.named_steps['classifier']\n",
    "        \n",
    "        # Get feature names after preprocessing\n",
    "        # For numerical features, names remain the same\n",
    "        numeric_feature_names = numeric_features\n",
    "        \n",
    "        # For categorical features, we need to get the encoded feature names\n",
    "        cat_encoder = preprocessor.transformers_[1][1]\n",
    "        try:\n",
    "            categorical_feature_names = cat_encoder.get_feature_names_out(categorical_features)\n",
    "        except:\n",
    "            # Fallback if get_feature_names_out is not available\n",
    "            categorical_feature_names = [f\"cat_{i}\" for i in range(cat_encoder.get_output_dims())]\n",
    "        \n",
    "        # Get coefficients (only applicable for linear kernel)\n",
    "        coefficients = svc.coef_[0]\n",
    "        \n",
    "        # Check dimensions before combining\n",
    "        print(f\"Number of features after preprocessing: {len(numeric_feature_names) + len(categorical_feature_names)}\")\n",
    "        print(f\"Number of coefficients: {len(coefficients)}\")\n",
    "        \n",
    "        # Create a list of feature names matching the preprocessor's order\n",
    "        # This is a simplified approach and may need adjustment based on the actual preprocessor output\n",
    "        all_feature_names = list(numeric_feature_names) + list(categorical_feature_names)\n",
    "        \n",
    "        # In case of dimension mismatch, use indices instead of names\n",
    "        if len(all_feature_names) != len(coefficients):\n",
    "            all_feature_names = [f\"Feature_{i}\" for i in range(len(coefficients))]\n",
    "        \n",
    "        # Create feature importance DataFrame\n",
    "        feature_importance = pd.DataFrame({\n",
    "            'Feature': all_feature_names[:len(coefficients)],\n",
    "            'Importance': np.abs(coefficients)\n",
    "        }).sort_values('Importance', ascending=False)\n",
    "        \n",
    "        # Plot top features\n",
    "        plt.figure(figsize=(12, 8))\n",
    "        top_n = min(20, len(feature_importance))\n",
    "        sns.barplot(x='Importance', y='Feature', data=feature_importance.head(top_n))\n",
    "        plt.title(f'Top {top_n} Features (Linear SVM)')\n",
    "        plt.tight_layout()\n",
    "        plt.savefig('svm_feature_importance.png')\n",
    "        plt.close()\n",
    "    except Exception as e:\n",
    "        print(f\"Error in feature importance analysis: {e}\")"
   ]
  },
  {
   "cell_type": "code",
   "execution_count": 27,
   "id": "b3ce902c",
   "metadata": {
    "execution": {
     "iopub.execute_input": "2025-04-28T05:06:30.306421Z",
     "iopub.status.busy": "2025-04-28T05:06:30.306137Z",
     "iopub.status.idle": "2025-04-28T05:06:30.644315Z",
     "shell.execute_reply": "2025-04-28T05:06:30.643040Z"
    },
    "papermill": {
     "duration": 0.348266,
     "end_time": "2025-04-28T05:06:30.646148",
     "exception": false,
     "start_time": "2025-04-28T05:06:30.297882",
     "status": "completed"
    },
    "tags": []
   },
   "outputs": [
    {
     "name": "stdout",
     "output_type": "stream",
     "text": [
      "\n",
      "--- Detailed Classification Reports ---\n",
      "\n",
      "LINEAR KERNEL (C=100)\n",
      "Accuracy: 0.9009\n",
      "\n",
      "Classification Report:\n",
      "              precision    recall  f1-score   support\n",
      "\n",
      "           0       0.90      0.91      0.90     29752\n",
      "           1       0.91      0.89      0.90     29751\n",
      "\n",
      "    accuracy                           0.90     59503\n",
      "   macro avg       0.90      0.90      0.90     59503\n",
      "weighted avg       0.90      0.90      0.90     59503\n",
      "\n",
      "\n",
      "Confusion Matrix:\n",
      "[[27015  2737]\n",
      " [ 3157 26594]]\n",
      "Sensitivity (True Positive Rate): 0.8939\n",
      "Specificity (True Negative Rate): 0.9080\n",
      "\n",
      "POLY KERNEL (C=10)\n",
      "Accuracy: 0.9066\n",
      "\n",
      "Classification Report:\n",
      "              precision    recall  f1-score   support\n",
      "\n",
      "           0       0.90      0.91      0.91     29752\n",
      "           1       0.91      0.90      0.91     29751\n",
      "\n",
      "    accuracy                           0.91     59503\n",
      "   macro avg       0.91      0.91      0.91     59503\n",
      "weighted avg       0.91      0.91      0.91     59503\n",
      "\n",
      "\n",
      "Confusion Matrix:\n",
      "[[27189  2563]\n",
      " [ 2992 26759]]\n",
      "Sensitivity (True Positive Rate): 0.8994\n",
      "Specificity (True Negative Rate): 0.9139\n",
      "\n",
      "RBF KERNEL (C=10)\n",
      "Accuracy: 0.9104\n",
      "\n",
      "Classification Report:\n",
      "              precision    recall  f1-score   support\n",
      "\n",
      "           0       0.91      0.92      0.91     29752\n",
      "           1       0.92      0.90      0.91     29751\n",
      "\n",
      "    accuracy                           0.91     59503\n",
      "   macro avg       0.91      0.91      0.91     59503\n",
      "weighted avg       0.91      0.91      0.91     59503\n",
      "\n",
      "\n",
      "Confusion Matrix:\n",
      "[[27266  2486]\n",
      " [ 2845 26906]]\n",
      "Sensitivity (True Positive Rate): 0.9044\n",
      "Specificity (True Negative Rate): 0.9164\n"
     ]
    }
   ],
   "source": [
    "# Generate detailed classification reports for all kernels\n",
    "print(\"\\n--- Detailed Classification Reports ---\")\n",
    "for kernel in kernels:\n",
    "    best_C = best_models[kernel]['C']\n",
    "    best_preds = best_models[kernel]['predictions']\n",
    "    \n",
    "    print(f\"\\n{kernel.upper()} KERNEL (C={best_C})\")\n",
    "    print(f\"Accuracy: {best_models[kernel]['accuracy']:.4f}\")\n",
    "    print(\"\\nClassification Report:\")\n",
    "    print(classification_report(y_test, best_preds))\n",
    "    \n",
    "    print(\"\\nConfusion Matrix:\")\n",
    "    cm = confusion_matrix(y_test, best_preds)\n",
    "    print(cm)\n",
    "    \n",
    "    # Calculate sensitivity and specificity\n",
    "    tn, fp, fn, tp = cm.ravel()\n",
    "    sensitivity = tp / (tp + fn)\n",
    "    specificity = tn / (tn + fp)\n",
    "    print(f\"Sensitivity (True Positive Rate): {sensitivity:.4f}\")\n",
    "    print(f\"Specificity (True Negative Rate): {specificity:.4f}\")"
   ]
  },
  {
   "cell_type": "code",
   "execution_count": 28,
   "id": "492e7bd8",
   "metadata": {
    "execution": {
     "iopub.execute_input": "2025-04-28T05:06:30.662808Z",
     "iopub.status.busy": "2025-04-28T05:06:30.662448Z",
     "iopub.status.idle": "2025-04-28T05:06:30.668500Z",
     "shell.execute_reply": "2025-04-28T05:06:30.667404Z"
    },
    "papermill": {
     "duration": 0.015932,
     "end_time": "2025-04-28T05:06:30.669957",
     "exception": false,
     "start_time": "2025-04-28T05:06:30.654025",
     "status": "completed"
    },
    "tags": []
   },
   "outputs": [
    {
     "name": "stdout",
     "output_type": "stream",
     "text": [
      "\n",
      "=== OVERALL BEST MODEL ===\n",
      "Kernel: rbf\n",
      "C value: 10\n",
      "Accuracy: 0.9104\n"
     ]
    }
   ],
   "source": [
    "# Identify the overall best model\n",
    "best_kernel = max(best_models, key=lambda k: best_models[k]['accuracy'])\n",
    "print(f\"\\n=== OVERALL BEST MODEL ===\")\n",
    "print(f\"Kernel: {best_kernel}\")\n",
    "print(f\"C value: {best_models[best_kernel]['C']}\")\n",
    "print(f\"Accuracy: {best_models[best_kernel]['accuracy']:.4f}\")"
   ]
  }
 ],
 "metadata": {
  "kaggle": {
   "accelerator": "none",
   "dataSources": [
    {
     "datasetId": 6764139,
     "sourceId": 10885300,
     "sourceType": "datasetVersion"
    }
   ],
   "dockerImageVersionId": 31012,
   "isGpuEnabled": false,
   "isInternetEnabled": true,
   "language": "python",
   "sourceType": "notebook"
  },
  "kernelspec": {
   "display_name": "Python 3",
   "language": "python",
   "name": "python3"
  },
  "language_info": {
   "codemirror_mode": {
    "name": "ipython",
    "version": 3
   },
   "file_extension": ".py",
   "mimetype": "text/x-python",
   "name": "python",
   "nbconvert_exporter": "python",
   "pygments_lexer": "ipython3",
   "version": "3.11.11"
  },
  "papermill": {
   "default_parameters": {},
   "duration": 16239.1546,
   "end_time": "2025-04-28T05:06:31.815760",
   "environment_variables": {},
   "exception": null,
   "input_path": "__notebook__.ipynb",
   "output_path": "__notebook__.ipynb",
   "parameters": {},
   "start_time": "2025-04-28T00:35:52.661160",
   "version": "2.6.0"
  }
 },
 "nbformat": 4,
 "nbformat_minor": 5
}
